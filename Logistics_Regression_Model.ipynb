{
 "cells": [
  {
   "cell_type": "markdown",
   "metadata": {},
   "source": [
    "___\n",
    "This notebook tries to do a simple prediction of which team will win in a random match based on seeding"
   ]
  },
  {
   "cell_type": "code",
   "execution_count": 51,
   "metadata": {},
   "outputs": [],
   "source": [
    "import pandas as pd\n",
    "import numpy as np\n",
    "import scipy\n",
    "from sklearn import *"
   ]
  },
  {
   "cell_type": "markdown",
   "metadata": {},
   "source": [
    "## Read data"
   ]
  },
  {
   "cell_type": "code",
   "execution_count": 36,
   "metadata": {},
   "outputs": [],
   "source": [
    "raw_data = pd.read_csv(\"input/tour-results-seed.csv\")"
   ]
  },
  {
   "cell_type": "markdown",
   "metadata": {},
   "source": [
    "## Data Transformation\n",
    "- Differential in seeding\n",
    "- winning results"
   ]
  },
  {
   "cell_type": "code",
   "execution_count": 40,
   "metadata": {
    "collapsed": true
   },
   "outputs": [],
   "source": [
    "winning_team_perspective_df = (\n",
    "    raw_data\n",
    "    .pipe(lambda x:x.assign(diff_seed = x.L_seed - x.W_seed))\n",
    "    .pipe(lambda x:x.assign(yhat = 1))\n",
    ")"
   ]
  },
  {
   "cell_type": "code",
   "execution_count": 41,
   "metadata": {
    "collapsed": true
   },
   "outputs": [],
   "source": [
    "losing_team_perspective_df = (\n",
    "    raw_data\n",
    "    .pipe(lambda x:x.assign(diff_seed = x.W_seed - x.L_seed))\n",
    "    .pipe(lambda x:x.assign(yhat = 0))\n",
    ")"
   ]
  },
  {
   "cell_type": "code",
   "execution_count": 99,
   "metadata": {},
   "outputs": [],
   "source": [
    "prediction_df = (\n",
    "    winning_team_perspective_df.append(losing_team_perspective_df)\n",
    ")"
   ]
  },
  {
   "cell_type": "markdown",
   "metadata": {},
   "source": [
    "## Splitting data into train and test sets\n",
    "- train data: <= 2013 Season\n",
    "- test data: >= 2014 Season"
   ]
  },
  {
   "cell_type": "code",
   "execution_count": 48,
   "metadata": {},
   "outputs": [],
   "source": [
    "train_df = prediction_df.query(\"Season <= 2013\")\n",
    "test_df = prediction_df.query(\"Season >= 2014\")"
   ]
  },
  {
   "cell_type": "code",
   "execution_count": 82,
   "metadata": {},
   "outputs": [],
   "source": [
    "train_data_x = train_df[['diff_seed']]\n",
    "train_data_y = train_df['yhat']\n",
    "\n",
    "test_data_x = test_df[['diff_seed']]\n",
    "test_data_y = test_df['yhat']"
   ]
  },
  {
   "cell_type": "markdown",
   "metadata": {},
   "source": [
    "## Initializing Logistics Regression"
   ]
  },
  {
   "cell_type": "code",
   "execution_count": 83,
   "metadata": {
    "collapsed": true
   },
   "outputs": [],
   "source": [
    "logreg = linear_model.LogisticRegression()"
   ]
  },
  {
   "cell_type": "code",
   "execution_count": 84,
   "metadata": {},
   "outputs": [
    {
     "data": {
      "text/plain": [
       "LogisticRegression(C=1.0, class_weight=None, dual=False, fit_intercept=True,\n",
       "          intercept_scaling=1, max_iter=100, multi_class='ovr', n_jobs=1,\n",
       "          penalty='l2', random_state=None, solver='liblinear', tol=0.0001,\n",
       "          verbose=0, warm_start=False)"
      ]
     },
     "execution_count": 84,
     "metadata": {},
     "output_type": "execute_result"
    }
   ],
   "source": [
    "logreg.fit(train_data_x,train_data_y)"
   ]
  },
  {
   "cell_type": "markdown",
   "metadata": {},
   "source": [
    "## Getting accuracy of logistics regression\n",
    "- 0.71 accurate\n",
    "- include confusion matrix"
   ]
  },
  {
   "cell_type": "code",
   "execution_count": 103,
   "metadata": {},
   "outputs": [
    {
     "data": {
      "text/plain": [
       "0.70895522388059706"
      ]
     },
     "execution_count": 103,
     "metadata": {},
     "output_type": "execute_result"
    }
   ],
   "source": [
    "logreg.score(test_data_x,test_data_y)"
   ]
  },
  {
   "cell_type": "code",
   "execution_count": 87,
   "metadata": {},
   "outputs": [
    {
     "data": {
      "text/plain": [
       "0.70895522388059706"
      ]
     },
     "execution_count": 87,
     "metadata": {},
     "output_type": "execute_result"
    }
   ],
   "source": [
    "logreg.score(test_data_x,test_data_y)"
   ]
  },
  {
   "cell_type": "code",
   "execution_count": 106,
   "metadata": {},
   "outputs": [
    {
     "data": {
      "text/plain": [
       "array([[180,  88],\n",
       "       [ 68, 200]])"
      ]
     },
     "execution_count": 106,
     "metadata": {},
     "output_type": "execute_result"
    }
   ],
   "source": [
    "metrics.confusion_matrix(test_df.yhat,test_df.prediction_results)"
   ]
  },
  {
   "cell_type": "markdown",
   "metadata": {},
   "source": [
    "## Joining prediction to actual dataframe"
   ]
  },
  {
   "cell_type": "code",
   "execution_count": null,
   "metadata": {
    "collapsed": true
   },
   "outputs": [],
   "source": [
    "test_results = pd.DataFrame(logreg.predict(test_df[['diff_seed']])).rename(columns={0:\"prediction_result\"})"
   ]
  },
  {
   "cell_type": "code",
   "execution_count": 93,
   "metadata": {},
   "outputs": [
    {
     "name": "stderr",
     "output_type": "stream",
     "text": [
      "/Users/shumingpeh/anaconda3/lib/python3.6/site-packages/ipykernel_launcher.py:1: SettingWithCopyWarning: \n",
      "A value is trying to be set on a copy of a slice from a DataFrame.\n",
      "Try using .loc[row_indexer,col_indexer] = value instead\n",
      "\n",
      "See the caveats in the documentation: http://pandas.pydata.org/pandas-docs/stable/indexing.html#indexing-view-versus-copy\n",
      "  \"\"\"Entry point for launching an IPython kernel.\n"
     ]
    }
   ],
   "source": [
    "test_df['prediction_results'] = test_results.prediction_result.values"
   ]
  },
  {
   "cell_type": "code",
   "execution_count": 96,
   "metadata": {},
   "outputs": [
    {
     "data": {
      "text/html": [
       "<div>\n",
       "<style>\n",
       "    .dataframe thead tr:only-child th {\n",
       "        text-align: right;\n",
       "    }\n",
       "\n",
       "    .dataframe thead th {\n",
       "        text-align: left;\n",
       "    }\n",
       "\n",
       "    .dataframe tbody tr th {\n",
       "        vertical-align: top;\n",
       "    }\n",
       "</style>\n",
       "<table border=\"1\" class=\"dataframe\">\n",
       "  <thead>\n",
       "    <tr style=\"text-align: right;\">\n",
       "      <th></th>\n",
       "      <th>Season</th>\n",
       "      <th>WTeamID</th>\n",
       "      <th>W_seed</th>\n",
       "      <th>LTeamID</th>\n",
       "      <th>L_seed</th>\n",
       "      <th>diff_seed</th>\n",
       "      <th>yhat</th>\n",
       "      <th>prediction_results</th>\n",
       "    </tr>\n",
       "  </thead>\n",
       "  <tbody>\n",
       "    <tr>\n",
       "      <th>2097</th>\n",
       "      <td>2017</td>\n",
       "      <td>1276</td>\n",
       "      <td>7</td>\n",
       "      <td>1257</td>\n",
       "      <td>2</td>\n",
       "      <td>5</td>\n",
       "      <td>0</td>\n",
       "      <td>1</td>\n",
       "    </tr>\n",
       "    <tr>\n",
       "      <th>2098</th>\n",
       "      <td>2017</td>\n",
       "      <td>1314</td>\n",
       "      <td>1</td>\n",
       "      <td>1116</td>\n",
       "      <td>8</td>\n",
       "      <td>-7</td>\n",
       "      <td>0</td>\n",
       "      <td>0</td>\n",
       "    </tr>\n",
       "    <tr>\n",
       "      <th>2099</th>\n",
       "      <td>2017</td>\n",
       "      <td>1332</td>\n",
       "      <td>3</td>\n",
       "      <td>1348</td>\n",
       "      <td>11</td>\n",
       "      <td>-8</td>\n",
       "      <td>0</td>\n",
       "      <td>0</td>\n",
       "    </tr>\n",
       "    <tr>\n",
       "      <th>2100</th>\n",
       "      <td>2017</td>\n",
       "      <td>1376</td>\n",
       "      <td>7</td>\n",
       "      <td>1181</td>\n",
       "      <td>2</td>\n",
       "      <td>5</td>\n",
       "      <td>0</td>\n",
       "      <td>1</td>\n",
       "    </tr>\n",
       "    <tr>\n",
       "      <th>2101</th>\n",
       "      <td>2017</td>\n",
       "      <td>1417</td>\n",
       "      <td>3</td>\n",
       "      <td>1153</td>\n",
       "      <td>6</td>\n",
       "      <td>-3</td>\n",
       "      <td>0</td>\n",
       "      <td>0</td>\n",
       "    </tr>\n",
       "    <tr>\n",
       "      <th>2102</th>\n",
       "      <td>2017</td>\n",
       "      <td>1211</td>\n",
       "      <td>1</td>\n",
       "      <td>1452</td>\n",
       "      <td>4</td>\n",
       "      <td>-3</td>\n",
       "      <td>0</td>\n",
       "      <td>0</td>\n",
       "    </tr>\n",
       "    <tr>\n",
       "      <th>2103</th>\n",
       "      <td>2017</td>\n",
       "      <td>1242</td>\n",
       "      <td>1</td>\n",
       "      <td>1345</td>\n",
       "      <td>4</td>\n",
       "      <td>-3</td>\n",
       "      <td>0</td>\n",
       "      <td>0</td>\n",
       "    </tr>\n",
       "    <tr>\n",
       "      <th>2104</th>\n",
       "      <td>2017</td>\n",
       "      <td>1332</td>\n",
       "      <td>3</td>\n",
       "      <td>1276</td>\n",
       "      <td>7</td>\n",
       "      <td>-4</td>\n",
       "      <td>0</td>\n",
       "      <td>0</td>\n",
       "    </tr>\n",
       "    <tr>\n",
       "      <th>2105</th>\n",
       "      <td>2017</td>\n",
       "      <td>1462</td>\n",
       "      <td>11</td>\n",
       "      <td>1112</td>\n",
       "      <td>2</td>\n",
       "      <td>9</td>\n",
       "      <td>0</td>\n",
       "      <td>1</td>\n",
       "    </tr>\n",
       "    <tr>\n",
       "      <th>2106</th>\n",
       "      <td>2017</td>\n",
       "      <td>1196</td>\n",
       "      <td>4</td>\n",
       "      <td>1458</td>\n",
       "      <td>8</td>\n",
       "      <td>-4</td>\n",
       "      <td>0</td>\n",
       "      <td>0</td>\n",
       "    </tr>\n",
       "    <tr>\n",
       "      <th>2107</th>\n",
       "      <td>2017</td>\n",
       "      <td>1246</td>\n",
       "      <td>2</td>\n",
       "      <td>1417</td>\n",
       "      <td>3</td>\n",
       "      <td>-1</td>\n",
       "      <td>0</td>\n",
       "      <td>0</td>\n",
       "    </tr>\n",
       "    <tr>\n",
       "      <th>2108</th>\n",
       "      <td>2017</td>\n",
       "      <td>1314</td>\n",
       "      <td>1</td>\n",
       "      <td>1139</td>\n",
       "      <td>4</td>\n",
       "      <td>-3</td>\n",
       "      <td>0</td>\n",
       "      <td>0</td>\n",
       "    </tr>\n",
       "    <tr>\n",
       "      <th>2109</th>\n",
       "      <td>2017</td>\n",
       "      <td>1376</td>\n",
       "      <td>7</td>\n",
       "      <td>1124</td>\n",
       "      <td>3</td>\n",
       "      <td>4</td>\n",
       "      <td>0</td>\n",
       "      <td>1</td>\n",
       "    </tr>\n",
       "    <tr>\n",
       "      <th>2110</th>\n",
       "      <td>2017</td>\n",
       "      <td>1211</td>\n",
       "      <td>1</td>\n",
       "      <td>1462</td>\n",
       "      <td>11</td>\n",
       "      <td>-10</td>\n",
       "      <td>0</td>\n",
       "      <td>0</td>\n",
       "    </tr>\n",
       "    <tr>\n",
       "      <th>2111</th>\n",
       "      <td>2017</td>\n",
       "      <td>1332</td>\n",
       "      <td>3</td>\n",
       "      <td>1242</td>\n",
       "      <td>1</td>\n",
       "      <td>2</td>\n",
       "      <td>0</td>\n",
       "      <td>1</td>\n",
       "    </tr>\n",
       "    <tr>\n",
       "      <th>2112</th>\n",
       "      <td>2017</td>\n",
       "      <td>1314</td>\n",
       "      <td>1</td>\n",
       "      <td>1246</td>\n",
       "      <td>2</td>\n",
       "      <td>-1</td>\n",
       "      <td>0</td>\n",
       "      <td>0</td>\n",
       "    </tr>\n",
       "    <tr>\n",
       "      <th>2113</th>\n",
       "      <td>2017</td>\n",
       "      <td>1376</td>\n",
       "      <td>7</td>\n",
       "      <td>1196</td>\n",
       "      <td>4</td>\n",
       "      <td>3</td>\n",
       "      <td>0</td>\n",
       "      <td>1</td>\n",
       "    </tr>\n",
       "    <tr>\n",
       "      <th>2114</th>\n",
       "      <td>2017</td>\n",
       "      <td>1211</td>\n",
       "      <td>1</td>\n",
       "      <td>1376</td>\n",
       "      <td>7</td>\n",
       "      <td>-6</td>\n",
       "      <td>0</td>\n",
       "      <td>0</td>\n",
       "    </tr>\n",
       "    <tr>\n",
       "      <th>2115</th>\n",
       "      <td>2017</td>\n",
       "      <td>1314</td>\n",
       "      <td>1</td>\n",
       "      <td>1332</td>\n",
       "      <td>3</td>\n",
       "      <td>-2</td>\n",
       "      <td>0</td>\n",
       "      <td>0</td>\n",
       "    </tr>\n",
       "    <tr>\n",
       "      <th>2116</th>\n",
       "      <td>2017</td>\n",
       "      <td>1314</td>\n",
       "      <td>1</td>\n",
       "      <td>1211</td>\n",
       "      <td>1</td>\n",
       "      <td>0</td>\n",
       "      <td>0</td>\n",
       "      <td>1</td>\n",
       "    </tr>\n",
       "  </tbody>\n",
       "</table>\n",
       "</div>"
      ],
      "text/plain": [
       "      Season  WTeamID  W_seed  LTeamID  L_seed  diff_seed  yhat  \\\n",
       "2097    2017     1276       7     1257       2          5     0   \n",
       "2098    2017     1314       1     1116       8         -7     0   \n",
       "2099    2017     1332       3     1348      11         -8     0   \n",
       "2100    2017     1376       7     1181       2          5     0   \n",
       "2101    2017     1417       3     1153       6         -3     0   \n",
       "2102    2017     1211       1     1452       4         -3     0   \n",
       "2103    2017     1242       1     1345       4         -3     0   \n",
       "2104    2017     1332       3     1276       7         -4     0   \n",
       "2105    2017     1462      11     1112       2          9     0   \n",
       "2106    2017     1196       4     1458       8         -4     0   \n",
       "2107    2017     1246       2     1417       3         -1     0   \n",
       "2108    2017     1314       1     1139       4         -3     0   \n",
       "2109    2017     1376       7     1124       3          4     0   \n",
       "2110    2017     1211       1     1462      11        -10     0   \n",
       "2111    2017     1332       3     1242       1          2     0   \n",
       "2112    2017     1314       1     1246       2         -1     0   \n",
       "2113    2017     1376       7     1196       4          3     0   \n",
       "2114    2017     1211       1     1376       7         -6     0   \n",
       "2115    2017     1314       1     1332       3         -2     0   \n",
       "2116    2017     1314       1     1211       1          0     0   \n",
       "\n",
       "      prediction_results  \n",
       "2097                   1  \n",
       "2098                   0  \n",
       "2099                   0  \n",
       "2100                   1  \n",
       "2101                   0  \n",
       "2102                   0  \n",
       "2103                   0  \n",
       "2104                   0  \n",
       "2105                   1  \n",
       "2106                   0  \n",
       "2107                   0  \n",
       "2108                   0  \n",
       "2109                   1  \n",
       "2110                   0  \n",
       "2111                   1  \n",
       "2112                   0  \n",
       "2113                   1  \n",
       "2114                   0  \n",
       "2115                   0  \n",
       "2116                   1  "
      ]
     },
     "execution_count": 96,
     "metadata": {},
     "output_type": "execute_result"
    }
   ],
   "source": [
    "test_df.tail(20)"
   ]
  },
  {
   "cell_type": "markdown",
   "metadata": {},
   "source": [
    "http://blog.yhat.com/posts/roc-curves.html"
   ]
  },
  {
   "cell_type": "markdown",
   "metadata": {},
   "source": [
    "# Concluding remarks for logistics regression modelling\n",
    "- current approach isnt going to work for predicting results\n",
    "    - we are using post results to predict post results\n",
    "- will need to use regular season to predict out winning probability"
   ]
  },
  {
   "cell_type": "markdown",
   "metadata": {},
   "source": [
    "## Next Steps\n",
    "- combining both regular season and post season for determining winner\n",
    "    - refer to images (link)\n",
    "- calculate out intermediate variables for prediction\n",
    "- all our features into prediction model\n",
    "- feature selection will be utilised later to decide which ones remain\n",
    "- ensure overfitting doesnt exist\n",
    "- try out different models"
   ]
  }
 ],
 "metadata": {
  "kernelspec": {
   "display_name": "Python 2",
   "language": "python",
   "name": "python2"
  },
  "language_info": {
   "codemirror_mode": {
    "name": "ipython",
    "version": 2
   },
   "file_extension": ".py",
   "mimetype": "text/x-python",
   "name": "python",
   "nbconvert_exporter": "python",
   "pygments_lexer": "ipython2",
   "version": "2.7.14"
  }
 },
 "nbformat": 4,
 "nbformat_minor": 2
}
