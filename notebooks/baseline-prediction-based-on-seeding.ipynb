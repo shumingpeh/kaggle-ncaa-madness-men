{
 "cells": [
  {
   "cell_type": "markdown",
   "metadata": {},
   "source": [
    "# Calculating a baseline prediction solely looking at seeding\n"
   ]
  },
  {
   "cell_type": "markdown",
   "metadata": {},
   "source": [
    "References: \n",
    "\n",
    "http://bracketodds.cs.illinois.edu/2015%20Omega.pdf\n",
    "\n",
    "http://nessis.org/nessis11/jacobson.pdf"
   ]
  },
  {
   "cell_type": "markdown",
   "metadata": {},
   "source": [
    "We assume the rate at which 1 seed wins another as a Poisson distribution (part of the Exponential distribution family).\n",
    "\n",
    "Poisson is used to estimate the waiting time between/how often 1 seed wins over another in a particular round.\n",
    "\n",
    "This makes the assumption that a seed's winning in a round occurs continuously and independently at a constant rate.\n",
    "\n",
    "(A rather naive assumption but suitable for making a baseline)\n"
   ]
  },
  {
   "cell_type": "code",
   "execution_count": 1,
   "metadata": {},
   "outputs": [],
   "source": [
    "import numpy as np\n",
    "import pandas as pd"
   ]
  },
  {
   "cell_type": "code",
   "execution_count": 65,
   "metadata": {},
   "outputs": [],
   "source": [
    "%qtconsole"
   ]
  },
  {
   "cell_type": "code",
   "execution_count": 2,
   "metadata": {},
   "outputs": [],
   "source": [
    "# 1. Recreate the same winning % table as my reference\n",
    "\n",
    "# 1a. Get tourney results and add which round these wins occured"
   ]
  },
  {
   "cell_type": "code",
   "execution_count": 3,
   "metadata": {},
   "outputs": [],
   "source": [
    "# Stage 1\n",
    "raw = pd.read_csv('data/stage1/DataFiles/NCAATourneyCompactResults.csv')\n"
   ]
  },
  {
   "cell_type": "code",
   "execution_count": 4,
   "metadata": {},
   "outputs": [],
   "source": [
    "# What the Brackets should look like\n",
    "# Round 1: 32 matches\n",
    "# Round 2: 16 matches\n",
    "# Round 3: 8 matches (Sweet Sixteen)\n",
    "# Round 4: 4 matches (Quarters)\n",
    "# Round 5: 2 matches (Semis)\n",
    "# Round 5: 1 match (Finals)\n",
    "\n",
    "# Total = 63 matches"
   ]
  },
  {
   "cell_type": "code",
   "execution_count": 5,
   "metadata": {},
   "outputs": [],
   "source": [
    "# If we were to select 1 year, the df is already sorted by DayNum\n",
    "# That means the last entry is the eventual winner and the match in round 6\n",
    "# Working backwards"
   ]
  },
  {
   "cell_type": "code",
   "execution_count": 6,
   "metadata": {},
   "outputs": [],
   "source": [
    "def add_round_to_df(df):\n",
    "    df1=df.copy()\n",
    "    df1['Round']=2 # by default all rounds are 2nd\n",
    "    \n",
    "    # Replace Finals with Round 7 (Last row, 8th column)\n",
    "    df1.iloc[-1,8]=7 \n",
    "    \n",
    "    # Replace Semis with Round 6\n",
    "    df1.iloc[-2,8]=6\n",
    "    df1.iloc[-3,8]=6\n",
    "    \n",
    "    # Replace Quarters with Round 5\n",
    "    df1.iloc[-4,8]=5\n",
    "    df1.iloc[-5,8]=5\n",
    "    df1.iloc[-6,8]=5\n",
    "    df1.iloc[-7,8]=5\n",
    "    \n",
    "    # So on... Round 4\n",
    "    df1.iloc[-8,8]=4\n",
    "    df1.iloc[-9,8]=4\n",
    "    df1.iloc[-10,8]=4\n",
    "    df1.iloc[-11,8]=4\n",
    "    df1.iloc[-12,8]=4\n",
    "    df1.iloc[-13,8]=4\n",
    "    df1.iloc[-14,8]=4\n",
    "    df1.iloc[-15,8]=4\n",
    "    \n",
    "    # Round 3\n",
    "    df1.iloc[-16,8]=3\n",
    "    df1.iloc[-17,8]=3\n",
    "    df1.iloc[-18,8]=3\n",
    "    df1.iloc[-19,8]=3\n",
    "    df1.iloc[-20,8]=3\n",
    "    df1.iloc[-21,8]=3\n",
    "    df1.iloc[-22,8]=3\n",
    "    df1.iloc[-23,8]=3\n",
    "    df1.iloc[-24,8]=3\n",
    "    df1.iloc[-25,8]=3\n",
    "    df1.iloc[-26,8]=3\n",
    "    df1.iloc[-27,8]=3\n",
    "    df1.iloc[-28,8]=3\n",
    "    df1.iloc[-29,8]=3\n",
    "    df1.iloc[-30,8]=3\n",
    "    df1.iloc[-31,8]=3\n",
    "\n",
    "    return df1"
   ]
  },
  {
   "cell_type": "code",
   "execution_count": 7,
   "metadata": {},
   "outputs": [
    {
     "data": {
      "text/html": [
       "<div>\n",
       "<style scoped>\n",
       "    .dataframe tbody tr th:only-of-type {\n",
       "        vertical-align: middle;\n",
       "    }\n",
       "\n",
       "    .dataframe tbody tr th {\n",
       "        vertical-align: top;\n",
       "    }\n",
       "\n",
       "    .dataframe thead th {\n",
       "        text-align: right;\n",
       "    }\n",
       "</style>\n",
       "<table border=\"1\" class=\"dataframe\">\n",
       "  <thead>\n",
       "    <tr style=\"text-align: right;\">\n",
       "      <th></th>\n",
       "      <th>Season</th>\n",
       "      <th>DayNum</th>\n",
       "      <th>WTeamID</th>\n",
       "      <th>WScore</th>\n",
       "      <th>LTeamID</th>\n",
       "      <th>LScore</th>\n",
       "      <th>WLoc</th>\n",
       "      <th>NumOT</th>\n",
       "      <th>Round</th>\n",
       "    </tr>\n",
       "  </thead>\n",
       "  <tbody>\n",
       "    <tr>\n",
       "      <th>0</th>\n",
       "      <td>1985</td>\n",
       "      <td>136</td>\n",
       "      <td>1116</td>\n",
       "      <td>63</td>\n",
       "      <td>1234</td>\n",
       "      <td>54</td>\n",
       "      <td>N</td>\n",
       "      <td>0</td>\n",
       "      <td>2</td>\n",
       "    </tr>\n",
       "    <tr>\n",
       "      <th>1</th>\n",
       "      <td>1985</td>\n",
       "      <td>136</td>\n",
       "      <td>1120</td>\n",
       "      <td>59</td>\n",
       "      <td>1345</td>\n",
       "      <td>58</td>\n",
       "      <td>N</td>\n",
       "      <td>0</td>\n",
       "      <td>2</td>\n",
       "    </tr>\n",
       "    <tr>\n",
       "      <th>2</th>\n",
       "      <td>1985</td>\n",
       "      <td>136</td>\n",
       "      <td>1207</td>\n",
       "      <td>68</td>\n",
       "      <td>1250</td>\n",
       "      <td>43</td>\n",
       "      <td>N</td>\n",
       "      <td>0</td>\n",
       "      <td>2</td>\n",
       "    </tr>\n",
       "    <tr>\n",
       "      <th>3</th>\n",
       "      <td>1985</td>\n",
       "      <td>136</td>\n",
       "      <td>1229</td>\n",
       "      <td>58</td>\n",
       "      <td>1425</td>\n",
       "      <td>55</td>\n",
       "      <td>N</td>\n",
       "      <td>0</td>\n",
       "      <td>2</td>\n",
       "    </tr>\n",
       "    <tr>\n",
       "      <th>4</th>\n",
       "      <td>1985</td>\n",
       "      <td>136</td>\n",
       "      <td>1242</td>\n",
       "      <td>49</td>\n",
       "      <td>1325</td>\n",
       "      <td>38</td>\n",
       "      <td>N</td>\n",
       "      <td>0</td>\n",
       "      <td>2</td>\n",
       "    </tr>\n",
       "  </tbody>\n",
       "</table>\n",
       "</div>"
      ],
      "text/plain": [
       "   Season  DayNum  WTeamID  WScore  LTeamID  LScore WLoc  NumOT  Round\n",
       "0    1985     136     1116      63     1234      54    N      0      2\n",
       "1    1985     136     1120      59     1345      58    N      0      2\n",
       "2    1985     136     1207      68     1250      43    N      0      2\n",
       "3    1985     136     1229      58     1425      55    N      0      2\n",
       "4    1985     136     1242      49     1325      38    N      0      2"
      ]
     },
     "execution_count": 7,
     "metadata": {},
     "output_type": "execute_result"
    }
   ],
   "source": [
    "# Applying add_round_to_df to raw DF\n",
    "\n",
    "df=pd.DataFrame()\n",
    "\n",
    "for i in range(1985,2018):\n",
    "    small_df=add_round_to_df(raw.query('Season=={}'.format(i)))\n",
    "    df=df.append(small_df)\n",
    "df.head()"
   ]
  },
  {
   "cell_type": "code",
   "execution_count": 8,
   "metadata": {},
   "outputs": [],
   "source": [
    "seedings = pd.read_csv('data/DataFiles/NCAATourneySeeds.csv')"
   ]
  },
  {
   "cell_type": "code",
   "execution_count": 9,
   "metadata": {},
   "outputs": [
    {
     "data": {
      "text/html": [
       "<div>\n",
       "<style scoped>\n",
       "    .dataframe tbody tr th:only-of-type {\n",
       "        vertical-align: middle;\n",
       "    }\n",
       "\n",
       "    .dataframe tbody tr th {\n",
       "        vertical-align: top;\n",
       "    }\n",
       "\n",
       "    .dataframe thead th {\n",
       "        text-align: right;\n",
       "    }\n",
       "</style>\n",
       "<table border=\"1\" class=\"dataframe\">\n",
       "  <thead>\n",
       "    <tr style=\"text-align: right;\">\n",
       "      <th></th>\n",
       "      <th>Season</th>\n",
       "      <th>Seed</th>\n",
       "      <th>TeamID</th>\n",
       "    </tr>\n",
       "  </thead>\n",
       "  <tbody>\n",
       "    <tr>\n",
       "      <th>0</th>\n",
       "      <td>1985</td>\n",
       "      <td>W01</td>\n",
       "      <td>1207</td>\n",
       "    </tr>\n",
       "    <tr>\n",
       "      <th>1</th>\n",
       "      <td>1985</td>\n",
       "      <td>W02</td>\n",
       "      <td>1210</td>\n",
       "    </tr>\n",
       "    <tr>\n",
       "      <th>2</th>\n",
       "      <td>1985</td>\n",
       "      <td>W03</td>\n",
       "      <td>1228</td>\n",
       "    </tr>\n",
       "    <tr>\n",
       "      <th>3</th>\n",
       "      <td>1985</td>\n",
       "      <td>W04</td>\n",
       "      <td>1260</td>\n",
       "    </tr>\n",
       "    <tr>\n",
       "      <th>4</th>\n",
       "      <td>1985</td>\n",
       "      <td>W05</td>\n",
       "      <td>1374</td>\n",
       "    </tr>\n",
       "  </tbody>\n",
       "</table>\n",
       "</div>"
      ],
      "text/plain": [
       "   Season Seed  TeamID\n",
       "0    1985  W01    1207\n",
       "1    1985  W02    1210\n",
       "2    1985  W03    1228\n",
       "3    1985  W04    1260\n",
       "4    1985  W05    1374"
      ]
     },
     "execution_count": 9,
     "metadata": {},
     "output_type": "execute_result"
    }
   ],
   "source": [
    "seedings.head()"
   ]
  },
  {
   "cell_type": "code",
   "execution_count": 10,
   "metadata": {},
   "outputs": [],
   "source": [
    "def parse_region(string1):\n",
    "    return string1[0]"
   ]
  },
  {
   "cell_type": "code",
   "execution_count": 11,
   "metadata": {},
   "outputs": [],
   "source": [
    "def parse_seeding(string1):\n",
    "    return int(string1[1:3])"
   ]
  },
  {
   "cell_type": "code",
   "execution_count": 12,
   "metadata": {},
   "outputs": [],
   "source": [
    "# Merge df and seedings\n",
    "# Separate out the seedings (integer) and Region for both the winner and loser\n",
    "\n",
    "df=(\n",
    "    df\n",
    "    .merge(seedings,how='left',left_on=['Season','WTeamID'],right_on=['Season','TeamID'])\n",
    "    .rename(columns={\"Seed\":\"W_seed\"})\n",
    "    .merge(seedings,how='left',left_on=['Season','LTeamID'],right_on=['Season','TeamID'])\n",
    "    .rename(columns={\"Seed\":\"L_seed\"})\n",
    "    .pipe(lambda x:x.assign(W_region = x.W_seed.apply(parse_region)))\n",
    "    .pipe(lambda x:x.assign(W_seed = x.W_seed.apply(parse_seeding)))\n",
    "    .pipe(lambda x:x.assign(L_region = x.L_seed.apply(parse_region)))\n",
    "    .pipe(lambda x:x.assign(L_seed = x.L_seed.apply(parse_seeding)))\n",
    ")"
   ]
  },
  {
   "cell_type": "code",
   "execution_count": 13,
   "metadata": {},
   "outputs": [
    {
     "data": {
      "text/html": [
       "<div>\n",
       "<style scoped>\n",
       "    .dataframe tbody tr th:only-of-type {\n",
       "        vertical-align: middle;\n",
       "    }\n",
       "\n",
       "    .dataframe tbody tr th {\n",
       "        vertical-align: top;\n",
       "    }\n",
       "\n",
       "    .dataframe thead th {\n",
       "        text-align: right;\n",
       "    }\n",
       "</style>\n",
       "<table border=\"1\" class=\"dataframe\">\n",
       "  <thead>\n",
       "    <tr style=\"text-align: right;\">\n",
       "      <th></th>\n",
       "      <th>Season</th>\n",
       "      <th>DayNum</th>\n",
       "      <th>WTeamID</th>\n",
       "      <th>WScore</th>\n",
       "      <th>LTeamID</th>\n",
       "      <th>LScore</th>\n",
       "      <th>WLoc</th>\n",
       "      <th>NumOT</th>\n",
       "      <th>Round</th>\n",
       "      <th>W_seed</th>\n",
       "      <th>TeamID_x</th>\n",
       "      <th>L_seed</th>\n",
       "      <th>TeamID_y</th>\n",
       "      <th>W_region</th>\n",
       "      <th>L_region</th>\n",
       "    </tr>\n",
       "  </thead>\n",
       "  <tbody>\n",
       "    <tr>\n",
       "      <th>0</th>\n",
       "      <td>1985</td>\n",
       "      <td>136</td>\n",
       "      <td>1116</td>\n",
       "      <td>63</td>\n",
       "      <td>1234</td>\n",
       "      <td>54</td>\n",
       "      <td>N</td>\n",
       "      <td>0</td>\n",
       "      <td>2</td>\n",
       "      <td>9</td>\n",
       "      <td>1116</td>\n",
       "      <td>8</td>\n",
       "      <td>1234</td>\n",
       "      <td>X</td>\n",
       "      <td>X</td>\n",
       "    </tr>\n",
       "    <tr>\n",
       "      <th>1</th>\n",
       "      <td>1985</td>\n",
       "      <td>136</td>\n",
       "      <td>1120</td>\n",
       "      <td>59</td>\n",
       "      <td>1345</td>\n",
       "      <td>58</td>\n",
       "      <td>N</td>\n",
       "      <td>0</td>\n",
       "      <td>2</td>\n",
       "      <td>11</td>\n",
       "      <td>1120</td>\n",
       "      <td>6</td>\n",
       "      <td>1345</td>\n",
       "      <td>Z</td>\n",
       "      <td>Z</td>\n",
       "    </tr>\n",
       "    <tr>\n",
       "      <th>2</th>\n",
       "      <td>1985</td>\n",
       "      <td>136</td>\n",
       "      <td>1207</td>\n",
       "      <td>68</td>\n",
       "      <td>1250</td>\n",
       "      <td>43</td>\n",
       "      <td>N</td>\n",
       "      <td>0</td>\n",
       "      <td>2</td>\n",
       "      <td>1</td>\n",
       "      <td>1207</td>\n",
       "      <td>16</td>\n",
       "      <td>1250</td>\n",
       "      <td>W</td>\n",
       "      <td>W</td>\n",
       "    </tr>\n",
       "    <tr>\n",
       "      <th>3</th>\n",
       "      <td>1985</td>\n",
       "      <td>136</td>\n",
       "      <td>1229</td>\n",
       "      <td>58</td>\n",
       "      <td>1425</td>\n",
       "      <td>55</td>\n",
       "      <td>N</td>\n",
       "      <td>0</td>\n",
       "      <td>2</td>\n",
       "      <td>9</td>\n",
       "      <td>1229</td>\n",
       "      <td>8</td>\n",
       "      <td>1425</td>\n",
       "      <td>Y</td>\n",
       "      <td>Y</td>\n",
       "    </tr>\n",
       "    <tr>\n",
       "      <th>4</th>\n",
       "      <td>1985</td>\n",
       "      <td>136</td>\n",
       "      <td>1242</td>\n",
       "      <td>49</td>\n",
       "      <td>1325</td>\n",
       "      <td>38</td>\n",
       "      <td>N</td>\n",
       "      <td>0</td>\n",
       "      <td>2</td>\n",
       "      <td>3</td>\n",
       "      <td>1242</td>\n",
       "      <td>14</td>\n",
       "      <td>1325</td>\n",
       "      <td>Z</td>\n",
       "      <td>Z</td>\n",
       "    </tr>\n",
       "  </tbody>\n",
       "</table>\n",
       "</div>"
      ],
      "text/plain": [
       "   Season  DayNum  WTeamID  WScore  LTeamID  LScore WLoc  NumOT  Round  \\\n",
       "0    1985     136     1116      63     1234      54    N      0      2   \n",
       "1    1985     136     1120      59     1345      58    N      0      2   \n",
       "2    1985     136     1207      68     1250      43    N      0      2   \n",
       "3    1985     136     1229      58     1425      55    N      0      2   \n",
       "4    1985     136     1242      49     1325      38    N      0      2   \n",
       "\n",
       "   W_seed  TeamID_x  L_seed  TeamID_y W_region L_region  \n",
       "0       9      1116       8      1234        X        X  \n",
       "1      11      1120       6      1345        Z        Z  \n",
       "2       1      1207      16      1250        W        W  \n",
       "3       9      1229       8      1425        Y        Y  \n",
       "4       3      1242      14      1325        Z        Z  "
      ]
     },
     "execution_count": 13,
     "metadata": {},
     "output_type": "execute_result"
    }
   ],
   "source": [
    "df.head()"
   ]
  },
  {
   "cell_type": "code",
   "execution_count": 14,
   "metadata": {},
   "outputs": [
    {
     "data": {
      "text/plain": [
       "'\\nRecreate the data we saw in the ref paper\\n1985 - 2013\\nFor example, in round 2, seed\\nnumber 2 teams have played 116 times against seed number 15\\nteams and won 109 of these games. An exponential random\\nvariable with mean 29/109=0.266 is associated with seed 2 teams\\nto estimate their success rates in round 2.\\n'"
      ]
     },
     "execution_count": 14,
     "metadata": {},
     "output_type": "execute_result"
    }
   ],
   "source": [
    "\"\"\"\n",
    "Recreate the data we saw in the ref paper\n",
    "1985 - 2013\n",
    "For example, in round 2, seed\n",
    "number 2 teams have played 116 times against seed number 15\n",
    "teams and won 109 of these games. An exponential random\n",
    "variable with mean 29/109=0.266 is associated with seed 2 teams\n",
    "to estimate their success rates in round 2.\n",
    "\"\"\""
   ]
  },
  {
   "cell_type": "code",
   "execution_count": 15,
   "metadata": {},
   "outputs": [
    {
     "data": {
      "text/plain": [
       "109"
      ]
     },
     "execution_count": 15,
     "metadata": {},
     "output_type": "execute_result"
    }
   ],
   "source": [
    "\n",
    "len(df\n",
    " .query('Season>=1985 & Season<=2013')\n",
    " .query('Round==2')\n",
    " .query('W_seed==2')\n",
    ")"
   ]
  },
  {
   "cell_type": "code",
   "execution_count": 17,
   "metadata": {},
   "outputs": [
    {
     "data": {
      "text/plain": [
       "0.6551724137931034"
      ]
     },
     "execution_count": 17,
     "metadata": {},
     "output_type": "execute_result"
    }
   ],
   "source": [
    "len(df\n",
    " .query('Season>=1985 & Season<=2013')\n",
    " .query('Round==3')\n",
    " .query('W_seed==7')\n",
    ")/(2013-1985+1.0)"
   ]
  },
  {
   "cell_type": "code",
   "execution_count": 18,
   "metadata": {},
   "outputs": [],
   "source": [
    "# It Works!"
   ]
  },
  {
   "cell_type": "code",
   "execution_count": 19,
   "metadata": {},
   "outputs": [],
   "source": [
    "# Function to build Matrix 1 - Winning Rate Table based on seeds and rounds"
   ]
  },
  {
   "cell_type": "code",
   "execution_count": 20,
   "metadata": {},
   "outputs": [],
   "source": [
    "seeds = range(1,17) # 1 to 16\n",
    "rounds = range(2,8) # 2 to 7\n",
    "wr = np.zeros((len(seeds),len(rounds)))"
   ]
  },
  {
   "cell_type": "code",
   "execution_count": 22,
   "metadata": {},
   "outputs": [],
   "source": [
    "years = 2013-1985+1.0\n",
    "\n",
    "for s in seeds:\n",
    "    for r in rounds:\n",
    "        wr[s-1,r-2]=len(df.query('Season>=1985 & Season<=2013')\n",
    "         .query('Round=={}'.format(r))\n",
    "         .query('W_seed=={}'.format(s))\n",
    "        )/years\n",
    "        "
   ]
  },
  {
   "cell_type": "code",
   "execution_count": 23,
   "metadata": {},
   "outputs": [
    {
     "data": {
      "text/plain": [
       "array([[4.        , 3.48275862, 2.75862069, 1.62068966, 0.93103448,\n",
       "        0.62068966],\n",
       "       [3.75862069, 2.5862069 , 1.86206897, 0.86206897, 0.4137931 ,\n",
       "        0.13793103],\n",
       "       [3.4137931 , 2.06896552, 1.03448276, 0.48275862, 0.31034483,\n",
       "        0.13793103],\n",
       "       [3.13793103, 1.75862069, 0.62068966, 0.44827586, 0.10344828,\n",
       "        0.03448276],\n",
       "       [2.5862069 , 1.34482759, 0.27586207, 0.20689655, 0.10344828,\n",
       "        0.        ],\n",
       "       [2.65517241, 1.34482759, 0.44827586, 0.10344828, 0.06896552,\n",
       "        0.03448276],\n",
       "       [2.4137931 , 0.65517241, 0.24137931, 0.        , 0.        ,\n",
       "        0.        ],\n",
       "       [1.93103448, 0.34482759, 0.24137931, 0.13793103, 0.06896552,\n",
       "        0.03448276],\n",
       "       [2.06896552, 0.17241379, 0.06896552, 0.03448276, 0.        ,\n",
       "        0.        ],\n",
       "       [1.5862069 , 0.72413793, 0.24137931, 0.        , 0.        ,\n",
       "        0.        ],\n",
       "       [1.4137931 , 0.51724138, 0.17241379, 0.10344828, 0.        ,\n",
       "        0.        ],\n",
       "       [1.48275862, 0.68965517, 0.03448276, 0.        , 0.        ,\n",
       "        0.        ],\n",
       "       [0.89655172, 0.20689655, 0.        , 0.        , 0.        ,\n",
       "        0.        ],\n",
       "       [0.62068966, 0.06896552, 0.        , 0.        , 0.        ,\n",
       "        0.        ],\n",
       "       [0.24137931, 0.03448276, 0.        , 0.        , 0.        ,\n",
       "        0.        ],\n",
       "       [0.55172414, 0.        , 0.        , 0.        , 0.        ,\n",
       "        0.        ]])"
      ]
     },
     "execution_count": 23,
     "metadata": {},
     "output_type": "execute_result"
    }
   ],
   "source": [
    "wr"
   ]
  },
  {
   "cell_type": "code",
   "execution_count": 25,
   "metadata": {},
   "outputs": [],
   "source": [
    "def get_wr(seed,rd):\n",
    "    return wr[seed-1,rd-2]"
   ]
  },
  {
   "cell_type": "code",
   "execution_count": 28,
   "metadata": {},
   "outputs": [
    {
     "data": {
      "text/plain": [
       "0.6551724137931034"
      ]
     },
     "execution_count": 28,
     "metadata": {},
     "output_type": "execute_result"
    }
   ],
   "source": [
    "# To get the winning rate of seed 7 in Round 3\n",
    "get_wr(7,3)"
   ]
  },
  {
   "cell_type": "code",
   "execution_count": 154,
   "metadata": {},
   "outputs": [],
   "source": [
    "def prob(wseed,lseed,rd):\n",
    "    num=get_wr(wseed,rd)\n",
    "    den=(get_wr(wseed,rd)+get_wr(lseed,rd))\n",
    "    if den==0 or num==0:\n",
    "        return 0.5\n",
    "    else:\n",
    "        return num/den"
   ]
  },
  {
   "cell_type": "code",
   "execution_count": 30,
   "metadata": {},
   "outputs": [
    {
     "data": {
      "text/plain": [
       "0.4827586206896552"
      ]
     },
     "execution_count": 30,
     "metadata": {},
     "output_type": "execute_result"
    }
   ],
   "source": [
    "# What is the probability that 8th seed wins 9th seed in round 2\n",
    "prob(8,9,2)"
   ]
  },
  {
   "cell_type": "code",
   "execution_count": 31,
   "metadata": {},
   "outputs": [
    {
     "data": {
      "text/plain": [
       "0.9528301886792453"
      ]
     },
     "execution_count": 31,
     "metadata": {},
     "output_type": "execute_result"
    }
   ],
   "source": [
    "# What is the probability that 1st seed wins 9th seed in round 3\n",
    "prob(1,9,3)"
   ]
  },
  {
   "cell_type": "code",
   "execution_count": 138,
   "metadata": {},
   "outputs": [],
   "source": [
    "# Load default submissions"
   ]
  },
  {
   "cell_type": "code",
   "execution_count": 155,
   "metadata": {},
   "outputs": [],
   "source": [
    "sub=pd.read_csv('data/SampleSubmissionStage1.csv')"
   ]
  },
  {
   "cell_type": "code",
   "execution_count": 140,
   "metadata": {},
   "outputs": [
    {
     "data": {
      "text/html": [
       "<div>\n",
       "<style scoped>\n",
       "    .dataframe tbody tr th:only-of-type {\n",
       "        vertical-align: middle;\n",
       "    }\n",
       "\n",
       "    .dataframe tbody tr th {\n",
       "        vertical-align: top;\n",
       "    }\n",
       "\n",
       "    .dataframe thead th {\n",
       "        text-align: right;\n",
       "    }\n",
       "</style>\n",
       "<table border=\"1\" class=\"dataframe\">\n",
       "  <thead>\n",
       "    <tr style=\"text-align: right;\">\n",
       "      <th></th>\n",
       "      <th>ID</th>\n",
       "      <th>Pred</th>\n",
       "    </tr>\n",
       "  </thead>\n",
       "  <tbody>\n",
       "    <tr>\n",
       "      <th>0</th>\n",
       "      <td>2014_1107_1110</td>\n",
       "      <td>0.5</td>\n",
       "    </tr>\n",
       "    <tr>\n",
       "      <th>1</th>\n",
       "      <td>2014_1107_1112</td>\n",
       "      <td>0.5</td>\n",
       "    </tr>\n",
       "    <tr>\n",
       "      <th>2</th>\n",
       "      <td>2014_1107_1113</td>\n",
       "      <td>0.5</td>\n",
       "    </tr>\n",
       "    <tr>\n",
       "      <th>3</th>\n",
       "      <td>2014_1107_1124</td>\n",
       "      <td>0.5</td>\n",
       "    </tr>\n",
       "    <tr>\n",
       "      <th>4</th>\n",
       "      <td>2014_1107_1140</td>\n",
       "      <td>0.5</td>\n",
       "    </tr>\n",
       "  </tbody>\n",
       "</table>\n",
       "</div>"
      ],
      "text/plain": [
       "               ID  Pred\n",
       "0  2014_1107_1110   0.5\n",
       "1  2014_1107_1112   0.5\n",
       "2  2014_1107_1113   0.5\n",
       "3  2014_1107_1124   0.5\n",
       "4  2014_1107_1140   0.5"
      ]
     },
     "execution_count": 140,
     "metadata": {},
     "output_type": "execute_result"
    }
   ],
   "source": [
    "sub.head()"
   ]
  },
  {
   "cell_type": "code",
   "execution_count": 141,
   "metadata": {},
   "outputs": [],
   "source": [
    "# Break up submission file into yr, id1, id2, pred"
   ]
  },
  {
   "cell_type": "code",
   "execution_count": 142,
   "metadata": {},
   "outputs": [],
   "source": [
    "def parse_yr(string1):\n",
    "    a,b,c=string1.split('_')\n",
    "    return int(a)"
   ]
  },
  {
   "cell_type": "code",
   "execution_count": 143,
   "metadata": {},
   "outputs": [],
   "source": [
    "def parse_id1(string1):\n",
    "    a,b,c=string1.split('_')\n",
    "    return int(b)"
   ]
  },
  {
   "cell_type": "code",
   "execution_count": 144,
   "metadata": {},
   "outputs": [],
   "source": [
    "def parse_id2(string1):\n",
    "    a,b,c=string1.split('_')\n",
    "    return int(c)"
   ]
  },
  {
   "cell_type": "code",
   "execution_count": 156,
   "metadata": {},
   "outputs": [],
   "source": [
    "sub=(sub\n",
    " .pipe(lambda x:x.assign(year=x.ID.apply(parse_yr)))\n",
    " .pipe(lambda x:x.assign(wid=x.ID.apply(parse_id1)))\n",
    " .pipe(lambda x:x.assign(lid=x.ID.apply(parse_id2)))\n",
    ")"
   ]
  },
  {
   "cell_type": "code",
   "execution_count": 157,
   "metadata": {},
   "outputs": [],
   "source": [
    "# For id1, id2 - get seeding"
   ]
  },
  {
   "cell_type": "code",
   "execution_count": 158,
   "metadata": {},
   "outputs": [
    {
     "data": {
      "text/html": [
       "<div>\n",
       "<style scoped>\n",
       "    .dataframe tbody tr th:only-of-type {\n",
       "        vertical-align: middle;\n",
       "    }\n",
       "\n",
       "    .dataframe tbody tr th {\n",
       "        vertical-align: top;\n",
       "    }\n",
       "\n",
       "    .dataframe thead th {\n",
       "        text-align: right;\n",
       "    }\n",
       "</style>\n",
       "<table border=\"1\" class=\"dataframe\">\n",
       "  <thead>\n",
       "    <tr style=\"text-align: right;\">\n",
       "      <th></th>\n",
       "      <th>ID</th>\n",
       "      <th>Wseed</th>\n",
       "      <th>Lseed</th>\n",
       "    </tr>\n",
       "  </thead>\n",
       "  <tbody>\n",
       "    <tr>\n",
       "      <th>0</th>\n",
       "      <td>2014_1107_1110</td>\n",
       "      <td>16</td>\n",
       "      <td>15</td>\n",
       "    </tr>\n",
       "    <tr>\n",
       "      <th>1</th>\n",
       "      <td>2014_1107_1112</td>\n",
       "      <td>16</td>\n",
       "      <td>1</td>\n",
       "    </tr>\n",
       "    <tr>\n",
       "      <th>2</th>\n",
       "      <td>2014_1107_1113</td>\n",
       "      <td>16</td>\n",
       "      <td>10</td>\n",
       "    </tr>\n",
       "    <tr>\n",
       "      <th>3</th>\n",
       "      <td>2014_1107_1124</td>\n",
       "      <td>16</td>\n",
       "      <td>6</td>\n",
       "    </tr>\n",
       "    <tr>\n",
       "      <th>4</th>\n",
       "      <td>2014_1107_1140</td>\n",
       "      <td>16</td>\n",
       "      <td>10</td>\n",
       "    </tr>\n",
       "  </tbody>\n",
       "</table>\n",
       "</div>"
      ],
      "text/plain": [
       "               ID  Wseed  Lseed\n",
       "0  2014_1107_1110     16     15\n",
       "1  2014_1107_1112     16      1\n",
       "2  2014_1107_1113     16     10\n",
       "3  2014_1107_1124     16      6\n",
       "4  2014_1107_1140     16     10"
      ]
     },
     "execution_count": 158,
     "metadata": {},
     "output_type": "execute_result"
    }
   ],
   "source": [
    "sub=(sub\n",
    " .merge(seedings,how='left',left_on=['year','wid'],right_on=['Season','TeamID'])\n",
    " .rename(columns={'Seed':'Wseed'})\n",
    " .pipe(lambda x:x.assign(Wseed=x.Wseed.apply(parse_seeding)))\n",
    " .merge(seedings,how='left',left_on=['year','lid'],right_on=['Season','TeamID'])\n",
    " .rename(columns={'Seed':'Lseed'})\n",
    " .pipe(lambda x:x.assign(Lseed=x.Lseed.apply(parse_seeding)))\n",
    " [['ID','Wseed','Lseed']]\n",
    ")\n",
    "sub.head() # seeds can have repetition if teams are from different regions"
   ]
  },
  {
   "cell_type": "code",
   "execution_count": 45,
   "metadata": {},
   "outputs": [],
   "source": [
    "# Calc new prob, replace Pred"
   ]
  },
  {
   "cell_type": "code",
   "execution_count": 97,
   "metadata": {},
   "outputs": [],
   "source": [
    "import itertools"
   ]
  },
  {
   "cell_type": "code",
   "execution_count": 112,
   "metadata": {},
   "outputs": [],
   "source": [
    "# What are all the bracket combinations?\n",
    "# Key = round\n",
    "# Values = tuples of id1,id2 matchups\n",
    "brackets = {\n",
    "    2 : [(1,16),(2,15),(3,14),(4,13),(5,12),(6,11),(7,10),(8,9)],\n",
    "    3 : list(itertools.product((1,16),(8,9)))\\\n",
    "        +list(itertools.product((5,12),(4,13)))\\\n",
    "        +list(itertools.product((6,11),(3,14)))\\\n",
    "        +list(itertools.product((7,10),(2,15))),\n",
    "    4 : list(itertools.product((1,8,9,16),(4,5,12,13)))\\\n",
    "        +list(itertools.product((6,11,3,14),(7,10,2,15)))\n",
    "}"
   ]
  },
  {
   "cell_type": "code",
   "execution_count": 113,
   "metadata": {},
   "outputs": [],
   "source": [
    "def get_round(wseed,lseed):\n",
    "    for k,v in brackets.items():\n",
    "        if (wseed,lseed) in v:\n",
    "            return k\n",
    "        elif (lseed,wseed) in v:\n",
    "            return k\n",
    "    return 0"
   ]
  },
  {
   "cell_type": "code",
   "execution_count": 115,
   "metadata": {},
   "outputs": [
    {
     "data": {
      "text/plain": [
       "3"
      ]
     },
     "execution_count": 115,
     "metadata": {},
     "output_type": "execute_result"
    }
   ],
   "source": [
    "get_round(1,9)"
   ]
  },
  {
   "cell_type": "code",
   "execution_count": null,
   "metadata": {},
   "outputs": [],
   "source": []
  },
  {
   "cell_type": "code",
   "execution_count": null,
   "metadata": {},
   "outputs": [],
   "source": [
    "# Recompile a new submission file"
   ]
  },
  {
   "cell_type": "code",
   "execution_count": 159,
   "metadata": {},
   "outputs": [],
   "source": [
    "predictions=[]\n",
    "for i,row in sub.iterrows():\n",
    "    wseed=row[1]\n",
    "    lseed=row[2]\n",
    "    rd=get_round(wseed,lseed) #Wseed,Lseed\n",
    "    if rd ==0:\n",
    "        predictions.append(0.5)\n",
    "    else:\n",
    "        predictions.append(prob(wseed,lseed,rd))\n"
   ]
  },
  {
   "cell_type": "code",
   "execution_count": 160,
   "metadata": {},
   "outputs": [],
   "source": [
    "sub['Pred']=predictions"
   ]
  },
  {
   "cell_type": "code",
   "execution_count": 161,
   "metadata": {},
   "outputs": [],
   "source": [
    "final_submission = (\n",
    "    sub.drop(columns=['Wseed','Lseed'])\n",
    ")\n"
   ]
  },
  {
   "cell_type": "code",
   "execution_count": 166,
   "metadata": {},
   "outputs": [],
   "source": [
    "import datetime\n",
    "timestamp=datetime.datetime.now().strftime('%Y-%m-%d')\n",
    "final_submission.to_csv('output/baseline-{}.csv'.format(timestamp),index=False)"
   ]
  },
  {
   "cell_type": "code",
   "execution_count": null,
   "metadata": {},
   "outputs": [],
   "source": []
  }
 ],
 "metadata": {
  "kernelspec": {
   "display_name": "Python 2",
   "language": "python",
   "name": "python2"
  },
  "language_info": {
   "codemirror_mode": {
    "name": "ipython",
    "version": 2
   },
   "file_extension": ".py",
   "mimetype": "text/x-python",
   "name": "python",
   "nbconvert_exporter": "python",
   "pygments_lexer": "ipython2",
   "version": "2.7.14"
  }
 },
 "nbformat": 4,
 "nbformat_minor": 2
}
